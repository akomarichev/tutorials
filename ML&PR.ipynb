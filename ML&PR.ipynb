{
 "cells": [
  {
   "cell_type": "markdown",
   "metadata": {},
   "source": [
    "Vocabulary:\n",
    "\n",
    "### Polynomial function:\n",
    "\n",
    "$y(x,\\textbf{w}) = w_0 + w_1x + w_2x^2 + \\dots + w_Mx^M = \\sum_{j=0}^M w_jx^j$\n",
    "\n",
    "### Error function:\n",
    "\n",
    "$E(\\textbf{w}) = \\frac{1}{2} \\sum_{n=1}^N \\{y(x_n, \\textbf{w}) - t_n\\}^2$\n",
    "\n",
    "$\\textbf{w*} = ?$ ($\\textit{Exercise 1.1}$)\n",
    "\n",
    "Solution:\n",
    "\n",
    "$\\frac{\\partial E(\\mathbf{x})}{\\partial w_i} = \\frac{\\partial \\frac{1}{2} \\sum_{n=1}^N \\{y(x_n, \\textbf{w}) - t_n\\}^2}{\\partial w_i} = \\sum_{n=1}^N \\{ \\sum_{j=0}^M w_jx_n^{i+j} - t_nx^i\\} = 0$\n",
    "\n",
    "$\\sum_{j=0}^M \\{ w_j \\sum_{n=1}^N x_n^{i+j} \\} = \\sum_{n=1}^N t_n x_n^i$\n",
    "\n",
    "$\\sum_{j=0}^M A_{ij} w_j = T_i$\n",
    "\n",
    "_Over-fitting_ problem dissapears with increasing number of training.\n",
    "\n",
    "Adding regularization term to $E(\\textbf{w})$:\n",
    "\n",
    "$E^{'}(\\textbf{w}) = \\frac{1}{2} \\sum_{n=1}^N \\{y(x_n, \\textbf{w}) - t_n\\}^2 + \\frac{\\lambda}{2}||\\mathbf{w}||^2$, where $||\\mathbf{w}||^2 = \\mathbf{w}^T\\mathbf{w} = w_0^2 + w_1^2 +\\dots+ w_M^2$.\n",
    "\n",
    "Quadratic regularizer is called _ridge regression_.\n",
    "\n"
   ]
  },
  {
   "cell_type": "code",
   "execution_count": null,
   "metadata": {},
   "outputs": [],
   "source": []
  },
  {
   "cell_type": "code",
   "execution_count": null,
   "metadata": {},
   "outputs": [],
   "source": []
  }
 ],
 "metadata": {
  "kernelspec": {
   "display_name": "Python 2",
   "language": "python",
   "name": "python2"
  },
  "language_info": {
   "codemirror_mode": {
    "name": "ipython",
    "version": 2
   },
   "file_extension": ".py",
   "mimetype": "text/x-python",
   "name": "python",
   "nbconvert_exporter": "python",
   "pygments_lexer": "ipython2",
   "version": "2.7.12"
  }
 },
 "nbformat": 4,
 "nbformat_minor": 2
}
